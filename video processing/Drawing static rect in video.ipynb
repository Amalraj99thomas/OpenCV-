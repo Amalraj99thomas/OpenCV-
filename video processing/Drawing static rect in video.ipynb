{
 "cells": [
  {
   "cell_type": "code",
   "execution_count": 1,
   "id": "97082c0d",
   "metadata": {},
   "outputs": [],
   "source": [
    "import cv2\n",
    "    \n",
    "cap = cv2.VideoCapture(0) \n",
    "\n",
    "width  = int(cap.get(cv2.CAP_PROP_FRAME_WIDTH))\n",
    "height = int(cap.get(cv2.CAP_PROP_FRAME_HEIGHT))\n",
    "\n",
    "# for top left corner\n",
    "x = width // 2\n",
    "y = height // 2\n",
    "\n",
    "#for width and height of rectangle\n",
    "w = width // 4\n",
    "h = width // 4\n",
    "\n",
    "\n",
    "# // will give an int as result rather than float\n",
    "\n",
    "#for bottom right corner \n",
    "# x+w, y+h\n",
    "\n",
    "while True: \n",
    "    \n",
    "    ret, frame = cap.read()\n",
    "    \n",
    "    cv2.rectangle(frame, (x,y), (x+w,y+h), color=(255,0,0), thickness=4)\n",
    "    \n",
    "    cv2.imshow('frame', frame)\n",
    "    \n",
    "    if cv2.waitKey(1) & 0xFF == ord('q'): \n",
    "        break\n",
    "        \n",
    "cap.release()\n",
    "cv2.destroyAllWindows()"
   ]
  },
  {
   "cell_type": "code",
   "execution_count": null,
   "id": "a47cc21f",
   "metadata": {},
   "outputs": [],
   "source": []
  }
 ],
 "metadata": {
  "kernelspec": {
   "display_name": "Python 3 (ipykernel)",
   "language": "python",
   "name": "python3"
  },
  "language_info": {
   "codemirror_mode": {
    "name": "ipython",
    "version": 3
   },
   "file_extension": ".py",
   "mimetype": "text/x-python",
   "name": "python",
   "nbconvert_exporter": "python",
   "pygments_lexer": "ipython3",
   "version": "3.9.7"
  }
 },
 "nbformat": 4,
 "nbformat_minor": 5
}
