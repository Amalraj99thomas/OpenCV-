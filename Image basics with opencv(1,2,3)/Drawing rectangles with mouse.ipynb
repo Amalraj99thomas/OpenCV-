{
 "cells": [
  {
   "cell_type": "code",
   "execution_count": 2,
   "id": "8926c884",
   "metadata": {},
   "outputs": [],
   "source": [
    "##clicking at a point on canvas and dragging the mouse to create the rectangle\n",
    "\n",
    "import cv2\n",
    "import numpy as np\n",
    "\n",
    "\n",
    "##Variables##\n",
    "\n",
    "#True while mouse button is down, false when mouse button is up\n",
    "drawing = False\n",
    "ix,iy = -1,-1\n",
    "\n",
    "\n",
    "##Function##\n",
    "def rect(event,x,y,flags,param):\n",
    "    \n",
    "    global drawing,ix,iy\n",
    "    \n",
    "    if event == cv2.EVENT_LBUTTONDOWN:\n",
    "        \n",
    "        drawing = True\n",
    "        ix,iy = x,y\n",
    "        \n",
    "    elif event == cv2.EVENT_MOUSEMOVE:\n",
    "        \n",
    "        if drawing == True:\n",
    "            cv2.rectangle(img, (ix,iy), (x,y), (0,0,255), -1)\n",
    "            \n",
    "    elif event == cv2.EVENT_LBUTTONUP:\n",
    "        \n",
    "        drawing = False\n",
    "        cv2.rectangle(img, (ix,iy), (x,y), (0,0,255), -1)\n",
    "\n",
    "\n",
    "##showing image##\n",
    "\n",
    "img = np.zeros((512,512,3), np.int8)\n",
    "\n",
    "cv2.namedWindow(winname ='drawing')\n",
    "\n",
    "cv2.setMouseCallback('drawing', rect)\n",
    "\n",
    "while True: \n",
    "    \n",
    "    cv2.imshow('drawing', img)\n",
    "    \n",
    "    if cv2.waitKey(1) & 0xFF ==27:\n",
    "        break\n",
    "        \n",
    "\n",
    "        \n",
    "cv2.destroyAllWindows()\n"
   ]
  },
  {
   "cell_type": "code",
   "execution_count": null,
   "id": "87e49f58",
   "metadata": {},
   "outputs": [],
   "source": []
  }
 ],
 "metadata": {
  "kernelspec": {
   "display_name": "Python 3 (ipykernel)",
   "language": "python",
   "name": "python3"
  },
  "language_info": {
   "codemirror_mode": {
    "name": "ipython",
    "version": 3
   },
   "file_extension": ".py",
   "mimetype": "text/x-python",
   "name": "python",
   "nbconvert_exporter": "python",
   "pygments_lexer": "ipython3",
   "version": "3.9.7"
  }
 },
 "nbformat": 4,
 "nbformat_minor": 5
}
