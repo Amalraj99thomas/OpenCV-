{
 "cells": [
  {
   "cell_type": "code",
   "execution_count": 3,
   "id": "c9ea3907",
   "metadata": {},
   "outputs": [],
   "source": [
    "import cv2\n",
    "import numpy as np \n",
    "\n",
    "##function\n",
    "\n",
    "def circle(event, x,y, flags,param):\n",
    "    \n",
    "    if event == cv2.EVENT_LBUTTONDOWN:\n",
    "        cv2.circle(img, (x,y), 100, (255,0,0), -1)\n",
    "\n",
    "##showing image\n",
    "cv2.namedWindow(winname ='test')\n",
    "\n",
    "\n",
    "cv2.setMouseCallback('test', circle)\n",
    "\n",
    "\n",
    "img = cv2.imread('dog_backpack.jpg')\n",
    "\n",
    "while True:\n",
    "    \n",
    "    cv2.imshow('test', img)\n",
    "    \n",
    "    if cv2.waitKey(1) & 0xFF == 27:\n",
    "        break\n",
    "        \n",
    "cv2.destroyAllWindows()"
   ]
  },
  {
   "cell_type": "code",
   "execution_count": null,
   "id": "e93bb2b2",
   "metadata": {},
   "outputs": [],
   "source": []
  }
 ],
 "metadata": {
  "kernelspec": {
   "display_name": "Python 3 (ipykernel)",
   "language": "python",
   "name": "python3"
  },
  "language_info": {
   "codemirror_mode": {
    "name": "ipython",
    "version": 3
   },
   "file_extension": ".py",
   "mimetype": "text/x-python",
   "name": "python",
   "nbconvert_exporter": "python",
   "pygments_lexer": "ipython3",
   "version": "3.9.7"
  }
 },
 "nbformat": 4,
 "nbformat_minor": 5
}
